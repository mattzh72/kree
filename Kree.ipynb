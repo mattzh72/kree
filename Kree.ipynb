{
 "cells": [
  {
   "cell_type": "markdown",
   "metadata": {},
   "source": [
    "# Installing Dependencies"
   ]
  },
  {
   "cell_type": "code",
   "execution_count": 1,
   "metadata": {},
   "outputs": [
    {
     "name": "stdout",
     "output_type": "stream",
     "text": [
      "Requirement already satisfied: selenium in /Users/mattzhou/opt/anaconda3/lib/python3.7/site-packages (4.0.0)\n",
      "Requirement already satisfied: trio-websocket~=0.9 in /Users/mattzhou/opt/anaconda3/lib/python3.7/site-packages (from selenium) (0.9.2)\n",
      "Requirement already satisfied: urllib3[secure]~=1.26 in /Users/mattzhou/opt/anaconda3/lib/python3.7/site-packages (from selenium) (1.26.7)\n",
      "Requirement already satisfied: trio~=0.17 in /Users/mattzhou/opt/anaconda3/lib/python3.7/site-packages (from selenium) (0.19.0)\n",
      "Requirement already satisfied: idna in /Users/mattzhou/opt/anaconda3/lib/python3.7/site-packages (from trio~=0.17->selenium) (2.8)\n",
      "Requirement already satisfied: sortedcontainers in /Users/mattzhou/opt/anaconda3/lib/python3.7/site-packages (from trio~=0.17->selenium) (2.1.0)\n",
      "Requirement already satisfied: outcome in /Users/mattzhou/opt/anaconda3/lib/python3.7/site-packages (from trio~=0.17->selenium) (1.1.0)\n",
      "Requirement already satisfied: sniffio in /Users/mattzhou/opt/anaconda3/lib/python3.7/site-packages (from trio~=0.17->selenium) (1.2.0)\n",
      "Requirement already satisfied: attrs>=19.2.0 in /Users/mattzhou/opt/anaconda3/lib/python3.7/site-packages (from trio~=0.17->selenium) (19.2.0)\n",
      "Requirement already satisfied: async-generator>=1.9 in /Users/mattzhou/opt/anaconda3/lib/python3.7/site-packages (from trio~=0.17->selenium) (1.10)\n",
      "Requirement already satisfied: wsproto>=0.14 in /Users/mattzhou/opt/anaconda3/lib/python3.7/site-packages (from trio-websocket~=0.9->selenium) (1.0.0)\n",
      "Requirement already satisfied: certifi in /Users/mattzhou/opt/anaconda3/lib/python3.7/site-packages (from urllib3[secure]~=1.26->selenium) (2019.9.11)\n",
      "Requirement already satisfied: cryptography>=1.3.4 in /Users/mattzhou/opt/anaconda3/lib/python3.7/site-packages (from urllib3[secure]~=1.26->selenium) (2.7)\n",
      "Requirement already satisfied: pyOpenSSL>=0.14 in /Users/mattzhou/opt/anaconda3/lib/python3.7/site-packages (from urllib3[secure]~=1.26->selenium) (19.0.0)\n",
      "Requirement already satisfied: cffi!=1.11.3,>=1.8 in /Users/mattzhou/opt/anaconda3/lib/python3.7/site-packages (from cryptography>=1.3.4->urllib3[secure]~=1.26->selenium) (1.12.3)\n",
      "Requirement already satisfied: six>=1.4.1 in /Users/mattzhou/opt/anaconda3/lib/python3.7/site-packages (from cryptography>=1.3.4->urllib3[secure]~=1.26->selenium) (1.12.0)\n",
      "Requirement already satisfied: asn1crypto>=0.21.0 in /Users/mattzhou/opt/anaconda3/lib/python3.7/site-packages (from cryptography>=1.3.4->urllib3[secure]~=1.26->selenium) (1.0.1)\n",
      "Requirement already satisfied: h11<1,>=0.9.0 in /Users/mattzhou/opt/anaconda3/lib/python3.7/site-packages (from wsproto>=0.14->trio-websocket~=0.9->selenium) (0.12.0)\n",
      "Requirement already satisfied: pycparser in /Users/mattzhou/opt/anaconda3/lib/python3.7/site-packages (from cffi!=1.11.3,>=1.8->cryptography>=1.3.4->urllib3[secure]~=1.26->selenium) (2.19)\n"
     ]
    }
   ],
   "source": [
    "!pip install selenium"
   ]
  },
  {
   "cell_type": "code",
   "execution_count": 2,
   "metadata": {},
   "outputs": [],
   "source": [
    "import os\n",
    "import sys\n",
    "import time\n",
    "import subprocess\n",
    "\n",
    "from bs4 import BeautifulSoup as bs\n",
    "import re as re\n",
    "import pandas as pd\n",
    "from pathlib import Path\n",
    "from selenium import webdriver\n",
    "from selenium.webdriver.common.keys import Keys\n",
    "from selenium.webdriver.common.by import By\n",
    "from selenium.webdriver.support.ui import WebDriverWait\n",
    "from selenium.webdriver.support import expected_conditions as EC"
   ]
  },
  {
   "cell_type": "markdown",
   "metadata": {},
   "source": [
    "# Read in Inputs"
   ]
  },
  {
   "cell_type": "code",
   "execution_count": 3,
   "metadata": {},
   "outputs": [
    {
     "data": {
      "text/plain": [
       "NaN         https://www.linkedin.com/in/kree-zhang/\n",
       "NaN    https://www.linkedin.com/in/michelleahn0418/\n",
       "Name: Public LI Profile, dtype: object"
      ]
     },
     "execution_count": 3,
     "metadata": {},
     "output_type": "execute_result"
    }
   ],
   "source": [
    "input_path = Path(os.path.abspath('')).absolute() / 'input.xlsx'\n",
    "raw_urls = pd.read_excel(input_path, index_col=0)['Public LI Profile']\n",
    "raw_urls"
   ]
  },
  {
   "cell_type": "markdown",
   "metadata": {},
   "source": [
    "# Start Chrome Driver"
   ]
  },
  {
   "cell_type": "code",
   "execution_count": 4,
   "metadata": {},
   "outputs": [
    {
     "name": "stdout",
     "output_type": "stream",
     "text": [
      "Copied ChromeDriver at /Users/mattzhou/Desktop/Projects/kree/chromedriver to /Users/mattzhou/opt/anaconda3/bin\n"
     ]
    }
   ],
   "source": [
    "source = Path(os.path.abspath('')).absolute() / \"chromedriver\"\n",
    "dest = os.path.dirname(sys.executable)\n",
    "subprocess.call('cp {} {}'.format(source, dest), shell=True)\n",
    "\n",
    "print('Copied ChromeDriver at {} to {}'.format(source, dest))"
   ]
  },
  {
   "cell_type": "code",
   "execution_count": 5,
   "metadata": {},
   "outputs": [],
   "source": [
    "# chrome_options = webdriver.ChromeOptions()\n",
    "# chrome_options.add_argument('--headless')\n",
    "# chrome_options.add_argument('--no-sandbox')\n",
    "# chrome_options.add_argument('--disable-dev-shm-usage')\n",
    "# driver = webdriver.Chrome(options=chrome_options)\n",
    "\n",
    "driver = webdriver.Chrome()"
   ]
  },
  {
   "cell_type": "markdown",
   "metadata": {},
   "source": [
    "# Login to LinkedIn"
   ]
  },
  {
   "cell_type": "code",
   "execution_count": 8,
   "metadata": {},
   "outputs": [
    {
     "name": "stdout",
     "output_type": "stream",
     "text": [
      "Username: mattzh1314@berkeley.edu\n",
      "Password: 15aprilLC\n"
     ]
    }
   ],
   "source": [
    "USERNAME = input(\"Username: \")\n",
    "PASSWORD = input(\"Password: \")"
   ]
  },
  {
   "cell_type": "code",
   "execution_count": 9,
   "metadata": {},
   "outputs": [],
   "source": [
    "driver.get(\"https://www.linkedin.com/login\")"
   ]
  },
  {
   "cell_type": "code",
   "execution_count": 10,
   "metadata": {},
   "outputs": [],
   "source": [
    "try:\n",
    "    email=driver.find_element(By.ID, \"username\")\n",
    "    email.clear()\n",
    "    email.send_keys(USERNAME)\n",
    "\n",
    "    password=driver.find_element(By.ID, \"password\")\n",
    "    password.clear()\n",
    "    password.send_keys(PASSWORD)\n",
    "\n",
    "    password.send_keys(Keys.RETURN)\n",
    "except:\n",
    "    print(\"Already logged in!\")"
   ]
  },
  {
   "cell_type": "markdown",
   "metadata": {},
   "source": [
    "# Scrape Targets"
   ]
  },
  {
   "cell_type": "code",
   "execution_count": 23,
   "metadata": {},
   "outputs": [],
   "source": [
    "def scrape(url, delay=10):\n",
    "    driver.get(url)\n",
    "    \n",
    "    try:\n",
    "        WebDriverWait(driver, delay).until(EC.presence_of_element_located((By.ID, \"experience-section\")))\n",
    "    except TimeoutException:\n",
    "        raise TimeoutException(\"Scrape failed for {}\".format(url))\n",
    "    \n",
    "    experiences = driver.find_element(By.ID, \"experience-section\")\n",
    "\n",
    "    # Click the expand more button\n",
    "    try:\n",
    "        more_experiences = experiences.find_element(By.CLASS_NAME, 'pv-experience-section__see-more')\n",
    "        more_experiences.find_element(By.CLASS_NAME, 'pv-profile-section__see-more-inline').click()\n",
    "    except Exception:\n",
    "        pass\n",
    "        \n",
    "    experiences_soup = bs(experiences.get_attribute('outerHTML'))\n",
    "\n",
    "    single_experiences = [e.getText() for e in experiences_soup.find_all('div', class_=\"pv-entity__summary-info\")]\n",
    "    multi_experiences = [e.getText() for e in experiences_soup.find_all('div', class_=\"pv-entity__company-summary-info\")]\n",
    "    \n",
    "    education = driver.find_element(By.ID, \"education-section\")\n",
    "    education_soup = bs(education.get_attribute('outerHTML'))\n",
    "\n",
    "    education = []\n",
    "    for li_tag in education_soup.find('ul', class_=\"pv-profile-section__section-info\"):\n",
    "        try:\n",
    "            school = li_tag.find('h3', {'class': \"pv-entity__school-name\"}).getText()\n",
    "            details = [l.getText() for l in li_tag.find_all('span', class_=\"pv-entity__comma-item\")]\n",
    "\n",
    "            education.append('{} - {}'.format(school, details[0]))\n",
    "        except Exception:\n",
    "            pass\n",
    "            \n",
    "    return single_experiences, multi_experiences, education"
   ]
  },
  {
   "cell_type": "code",
   "execution_count": 24,
   "metadata": {},
   "outputs": [],
   "source": [
    "results = {'Public LI Profile': [], 'Single Exp': [], 'Multi Exp': [], 'Education': []}\n",
    "error_text = \"Error\"\n",
    "\n",
    "for url in raw_urls:\n",
    "    single, multi, education = [error_text], [error_text], [error_text]\n",
    "    \n",
    "    try:\n",
    "        single, multi, education = scrape(url)\n",
    "    except Exception:\n",
    "        print(Exception)\n",
    "    \n",
    "    results['Public LI Profile'].append(url)\n",
    "    results['Single Exp'].append(single)\n",
    "    results['Multi Exp'].append(multi)\n",
    "    results['Education'].append(education)"
   ]
  },
  {
   "cell_type": "code",
   "execution_count": 25,
   "metadata": {},
   "outputs": [
    {
     "data": {
      "text/html": [
       "<div>\n",
       "<style scoped>\n",
       "    .dataframe tbody tr th:only-of-type {\n",
       "        vertical-align: middle;\n",
       "    }\n",
       "\n",
       "    .dataframe tbody tr th {\n",
       "        vertical-align: top;\n",
       "    }\n",
       "\n",
       "    .dataframe thead th {\n",
       "        text-align: right;\n",
       "    }\n",
       "</style>\n",
       "<table border=\"1\" class=\"dataframe\">\n",
       "  <thead>\n",
       "    <tr style=\"text-align: right;\">\n",
       "      <th></th>\n",
       "      <th>Public LI Profile</th>\n",
       "      <th>Single Exp</th>\n",
       "      <th>Multi Exp</th>\n",
       "      <th>Education</th>\n",
       "    </tr>\n",
       "  </thead>\n",
       "  <tbody>\n",
       "    <tr>\n",
       "      <td>0</td>\n",
       "      <td>https://www.linkedin.com/in/kree-zhang/</td>\n",
       "      <td>[\\nStrategy Associate\\nCompany Name\\n\\n      E...</td>\n",
       "      <td>[\\n\\nCompany Name\\nCMG Strategy Consulting\\n\\n...</td>\n",
       "      <td>[University of California, Berkeley, Haas Scho...</td>\n",
       "    </tr>\n",
       "    <tr>\n",
       "      <td>1</td>\n",
       "      <td>https://www.linkedin.com/in/michelleahn0418/</td>\n",
       "      <td>[\\nBusiness Analyst Intern\\nCompany Name\\n\\n  ...</td>\n",
       "      <td>[\\n\\nCompany Name\\nCMG Strategy Consulting\\n\\n...</td>\n",
       "      <td>[University of California, Berkeley, Haas Scho...</td>\n",
       "    </tr>\n",
       "  </tbody>\n",
       "</table>\n",
       "</div>"
      ],
      "text/plain": [
       "                              Public LI Profile  \\\n",
       "0       https://www.linkedin.com/in/kree-zhang/   \n",
       "1  https://www.linkedin.com/in/michelleahn0418/   \n",
       "\n",
       "                                          Single Exp  \\\n",
       "0  [\\nStrategy Associate\\nCompany Name\\n\\n      E...   \n",
       "1  [\\nBusiness Analyst Intern\\nCompany Name\\n\\n  ...   \n",
       "\n",
       "                                           Multi Exp  \\\n",
       "0  [\\n\\nCompany Name\\nCMG Strategy Consulting\\n\\n...   \n",
       "1  [\\n\\nCompany Name\\nCMG Strategy Consulting\\n\\n...   \n",
       "\n",
       "                                           Education  \n",
       "0  [University of California, Berkeley, Haas Scho...  \n",
       "1  [University of California, Berkeley, Haas Scho...  "
      ]
     },
     "execution_count": 25,
     "metadata": {},
     "output_type": "execute_result"
    }
   ],
   "source": [
    "df_results = pd.DataFrame(results)\n",
    "df_results"
   ]
  },
  {
   "cell_type": "code",
   "execution_count": 26,
   "metadata": {},
   "outputs": [
    {
     "data": {
      "text/plain": [
       "['University of California, Berkeley, Haas School of Business - Bachelor of Science - BS',\n",
       " 'UC Berkeley College of Engineering - The Sutardja Center for Entrepreneurship & Technology',\n",
       " 'University of California, Berkeley - Bachelor of Arts - BA']"
      ]
     },
     "execution_count": 26,
     "metadata": {},
     "output_type": "execute_result"
    }
   ],
   "source": [
    "df_results['Education'][0]"
   ]
  },
  {
   "cell_type": "markdown",
   "metadata": {},
   "source": [
    "# Data Cleaning"
   ]
  },
  {
   "cell_type": "code",
   "execution_count": 27,
   "metadata": {},
   "outputs": [
    {
     "data": {
      "text/plain": [
       "{'Public LI Profile': ['https://www.linkedin.com/in/kree-zhang/',\n",
       "  'https://www.linkedin.com/in/michelleahn0418/'],\n",
       " 'Previous Employers': ['CMG Strategy Consulting | TED Conferences | ASUC Student Union | Ripple | FORM Life Ventures | Human Rights Watch | McKinsey & Company | EY-Parthenon',\n",
       "  'CMG Strategy Consulting | Sports Business Group at Berkeley | Asthetic Studios | CONNECTED MOBILE | Cisco'],\n",
       " 'Education': ['University of California, Berkeley, Haas School of Business - Bachelor of Science - BS | UC Berkeley College of Engineering - The Sutardja Center for Entrepreneurship & Technology | University of California, Berkeley - Bachelor of Arts - BA',\n",
       "  'University of California, Berkeley, Haas School of Business - Bachelor of Science - BS | University of California, Berkeley - Bachelor of Arts - BA | Seoul International School - High School Diploma']}"
      ]
     },
     "execution_count": 27,
     "metadata": {},
     "output_type": "execute_result"
    }
   ],
   "source": [
    "cleaned = {'Public LI Profile': [], 'Previous Employers': [], 'Education': []}\n",
    "\n",
    "for i in range(len(df_results)):\n",
    "    single = df_results['Single Exp'][i]\n",
    "    multi = df_results['Multi Exp'][i]\n",
    "        \n",
    "    temp = []\n",
    "    if single[0] != error_text:\n",
    "        for s in single:\n",
    "            s = s.split('\\n')\n",
    "            s = [el for el in s if el]\n",
    "            temp.append(s[2].strip())\n",
    "    else:\n",
    "        temp.append(error_text)\n",
    "    \n",
    "    if multi[0] != error_text:\n",
    "        for m in multi:\n",
    "            m = m.split('\\n')\n",
    "            m = [el for el in m if el]\n",
    "            temp.append(m[1].strip())\n",
    "    else:\n",
    "        temp.append(error_text)\n",
    "        \n",
    "    cleaned['Previous Employers'].append(' | '.join(set(temp)))\n",
    "    cleaned['Public LI Profile'].append(df_results['Public LI Profile'][i])\n",
    "    cleaned['Education'].append(' | '.join(df_results['Education'][i]))\n",
    "    \n",
    "cleaned"
   ]
  },
  {
   "cell_type": "code",
   "execution_count": 28,
   "metadata": {},
   "outputs": [
    {
     "data": {
      "text/html": [
       "<div>\n",
       "<style scoped>\n",
       "    .dataframe tbody tr th:only-of-type {\n",
       "        vertical-align: middle;\n",
       "    }\n",
       "\n",
       "    .dataframe tbody tr th {\n",
       "        vertical-align: top;\n",
       "    }\n",
       "\n",
       "    .dataframe thead th {\n",
       "        text-align: right;\n",
       "    }\n",
       "</style>\n",
       "<table border=\"1\" class=\"dataframe\">\n",
       "  <thead>\n",
       "    <tr style=\"text-align: right;\">\n",
       "      <th></th>\n",
       "      <th>Public LI Profile</th>\n",
       "      <th>Previous Employers</th>\n",
       "      <th>Education</th>\n",
       "    </tr>\n",
       "  </thead>\n",
       "  <tbody>\n",
       "    <tr>\n",
       "      <td>0</td>\n",
       "      <td>https://www.linkedin.com/in/kree-zhang/</td>\n",
       "      <td>CMG Strategy Consulting | TED Conferences | AS...</td>\n",
       "      <td>University of California, Berkeley, Haas Schoo...</td>\n",
       "    </tr>\n",
       "    <tr>\n",
       "      <td>1</td>\n",
       "      <td>https://www.linkedin.com/in/michelleahn0418/</td>\n",
       "      <td>CMG Strategy Consulting | Sports Business Grou...</td>\n",
       "      <td>University of California, Berkeley, Haas Schoo...</td>\n",
       "    </tr>\n",
       "  </tbody>\n",
       "</table>\n",
       "</div>"
      ],
      "text/plain": [
       "                              Public LI Profile  \\\n",
       "0       https://www.linkedin.com/in/kree-zhang/   \n",
       "1  https://www.linkedin.com/in/michelleahn0418/   \n",
       "\n",
       "                                  Previous Employers  \\\n",
       "0  CMG Strategy Consulting | TED Conferences | AS...   \n",
       "1  CMG Strategy Consulting | Sports Business Grou...   \n",
       "\n",
       "                                           Education  \n",
       "0  University of California, Berkeley, Haas Schoo...  \n",
       "1  University of California, Berkeley, Haas Schoo...  "
      ]
     },
     "execution_count": 28,
     "metadata": {},
     "output_type": "execute_result"
    }
   ],
   "source": [
    "df_cleaned = pd.DataFrame(cleaned)\n",
    "df_cleaned"
   ]
  },
  {
   "cell_type": "markdown",
   "metadata": {},
   "source": [
    "# Download Results"
   ]
  },
  {
   "cell_type": "code",
   "execution_count": 104,
   "metadata": {},
   "outputs": [],
   "source": [
    "output_path = Path(os.path.abspath('')).absolute() / 'output.csv'\n",
    "df_cleaned.to_csv(output_path)"
   ]
  },
  {
   "cell_type": "code",
   "execution_count": null,
   "metadata": {},
   "outputs": [],
   "source": []
  }
 ],
 "metadata": {
  "kernelspec": {
   "display_name": "Python 3",
   "language": "python",
   "name": "python3"
  },
  "language_info": {
   "codemirror_mode": {
    "name": "ipython",
    "version": 3
   },
   "file_extension": ".py",
   "mimetype": "text/x-python",
   "name": "python",
   "nbconvert_exporter": "python",
   "pygments_lexer": "ipython3",
   "version": "3.7.4"
  }
 },
 "nbformat": 4,
 "nbformat_minor": 2
}
